{
 "cells": [
  {
   "cell_type": "code",
   "execution_count": 17,
   "id": "a232e95d",
   "metadata": {},
   "outputs": [
    {
     "name": "stdout",
     "output_type": "stream",
     "text": [
      "O link do video clicado foi: https://www.youtube.com/watch?v=y7OhuSGBt8o&pp=ygUOUHlob24gc2VsZW5pdW0%3D\n"
     ]
    }
   ],
   "source": [
    "#Teste 1: digitando um titulo no youtube e clicando no primeiro video\n",
    "\n",
    "from selenium import webdriver\n",
    "from selenium.webdriver.common.by import By\n",
    "from selenium.webdriver.common.keys import Keys\n",
    "import time\n",
    "\n",
    "\n",
    "driver = webdriver.Chrome()\n",
    "\n",
    "try:\n",
    "    \n",
    "    driver.get(\"https://www.youtube.com/\")\n",
    "    \n",
    "\n",
    "    time.sleep(2)\n",
    "\n",
    "    \n",
    "    search_box = driver.find_element(By.NAME, 'search_query')\n",
    "\n",
    "    \n",
    "    search_box.send_keys(\"Pyhon selenium\")\n",
    "\n",
    "    \n",
    "    search_box.send_keys(Keys.ENTER)\n",
    "\n",
    "    \n",
    "    time.sleep(3)\n",
    "\n",
    "    first_video = driver.find_element(By.CSS_SELECTOR, 'ytd-video-renderer a#video-title')\n",
    "\n",
    "    link = first_video.get_attribute(\"href\")\n",
    "\n",
    "    first_video.click()\n",
    "\n",
    "    print(\"O link do video clicado foi:\", link)\n",
    "\n",
    "    time.sleep(20)\n",
    "\n",
    "except Exception as e:\n",
    "    print(\"Ocorreu um erro: {e}\")"
   ]
  },
  {
   "cell_type": "code",
   "execution_count": 18,
   "id": "9101dafe",
   "metadata": {},
   "outputs": [
    {
     "name": "stdout",
     "output_type": "stream",
     "text": [
      "Título do vídeo: TESTE DE SOFTWARE: por onde começar\n",
      "Título do vídeo: Níveis e Técnicas de Teste, Entenda! unidade, integração, sistema, regressão, funcional, estrutural\n",
      "Título do vídeo: Como ser um Analista QA de Sucesso!\n",
      "Título do vídeo: PLANEJANDO TESTES DE SOFTWARE DO ZERO\n",
      "Título do vídeo: Descomplicando Testes Unitários! (Guia Rápido Para Iniciantes Na Programação)\n",
      "Título do vídeo: Engenharia de Software - Aula 18 - Visão geral de teste de software\n",
      "Título do vídeo: Entenda os 7 princípios do Teste de Software que todo engenheiro de software deve saber\n",
      "Título do vídeo: PROGRAMAÇÃO e SISTEMAS de INFORMAÇÃO: o mundo tecnológico #VocêPodeSer Ep. 12\n",
      "Título do vídeo: O Tablet que usei para ser Aprovado no Concurso de Auditor (eficiência)\n",
      "Título do vídeo: Live - Consultoria de Software na Prática: Lições Aprendidas e Desafios Superados\n"
     ]
    }
   ],
   "source": [
    "#Teste 2: Procurando um conteudo e imprimindo os títulos dos vídeos\n",
    "\n",
    "from selenium import webdriver\n",
    "from selenium.webdriver.common.by import By\n",
    "from selenium.webdriver.common.keys import Keys\n",
    "import time\n",
    "\n",
    "driver = webdriver.Chrome()\n",
    "\n",
    "try:\n",
    "    \n",
    "    driver.get(\"https://www.youtube.com/\")\n",
    "\n",
    "    \n",
    "    time.sleep(2)\n",
    "\n",
    "    \n",
    "    search_box = driver.find_element(By.NAME, 'search_query')\n",
    "\n",
    "   \n",
    "    search_box.send_keys(\"Teste de software\")\n",
    "    search_box.send_keys(Keys.ENTER)\n",
    "\n",
    "    \n",
    "    time.sleep(3)\n",
    "\n",
    "    \n",
    "    video_titles = driver.find_elements(By.CSS_SELECTOR, 'ytd-video-renderer a#video-title')[:10]\n",
    "\n",
    "    \n",
    "    for title in video_titles:\n",
    "        print(\"Título do vídeo:\", title.text)\n",
    "\n",
    "except Exception as e:\n",
    "    print(f\"Ocorreu um erro: {e}\")\n",
    "\n"
   ]
  },
  {
   "cell_type": "code",
   "execution_count": 19,
   "id": "17cc8a91",
   "metadata": {},
   "outputs": [
    {
     "name": "stdout",
     "output_type": "stream",
     "text": [
      "Ocorreu um erro: Message: no such element: Unable to locate element: {\"method\":\"css selector\",\"selector\":\"[name=\"password\"]\"}\n",
      "  (Session info: chrome=124.0.6367.93); For documentation on this error, please visit: https://www.selenium.dev/documentation/webdriver/troubleshooting/errors#no-such-element-exception\n",
      "Stacktrace:\n",
      "\tGetHandleVerifier [0x00007FF7854A1502+60802]\n",
      "\t(No symbol) [0x00007FF78541AC02]\n",
      "\t(No symbol) [0x00007FF7852D7CE4]\n",
      "\t(No symbol) [0x00007FF785326D4D]\n",
      "\t(No symbol) [0x00007FF785326E1C]\n",
      "\t(No symbol) [0x00007FF78536CE37]\n",
      "\t(No symbol) [0x00007FF78534ABBF]\n",
      "\t(No symbol) [0x00007FF78536A224]\n",
      "\t(No symbol) [0x00007FF78534A923]\n",
      "\t(No symbol) [0x00007FF785318FEC]\n",
      "\t(No symbol) [0x00007FF785319C21]\n",
      "\tGetHandleVerifier [0x00007FF7857A411D+3217821]\n",
      "\tGetHandleVerifier [0x00007FF7857E60B7+3488055]\n",
      "\tGetHandleVerifier [0x00007FF7857DF03F+3459263]\n",
      "\tGetHandleVerifier [0x00007FF78555B846+823494]\n",
      "\t(No symbol) [0x00007FF785425F9F]\n",
      "\t(No symbol) [0x00007FF785420EC4]\n",
      "\t(No symbol) [0x00007FF785421052]\n",
      "\t(No symbol) [0x00007FF7854118A4]\n",
      "\tBaseThreadInitThunk [0x00007FFE9F637344+20]\n",
      "\tRtlUserThreadStart [0x00007FFE9FAA26B1+33]\n",
      "\n"
     ]
    }
   ],
   "source": [
    "#Teste 3: Tentar fazer login com um email válido porém com senha errada\n",
    "\n",
    "from selenium import webdriver\n",
    "from selenium.webdriver.common.by import By\n",
    "from selenium.webdriver.common.keys import Keys\n",
    "from selenium.webdriver.support.ui import WebDriverWait\n",
    "from selenium.webdriver.support import expected_conditions as EC\n",
    "import time\n",
    "\n",
    "driver = webdriver.Chrome()\n",
    "\n",
    "try:\n",
    "    driver.get(\"https://accounts.google.com/v3/signin/identifier?continue=https%3A%2F%2Fwww.youtube.com%2Fsignin%3Faction_handle_signin%3Dtrue%26app%3Ddesktop%26hl%3Dpt%26next%3Dhttps%253A%252F%252Fwww.youtube.com%252F%253FthemeRefresh%253D1&ec=65620&hl=pt-BR&ifkv=AaSxoQxj9Bf-zwO2hQ4tbPRTTJo33PBQKP7NagS5057sPHO3-hR_nWI516iqLPJXzEBAdKuEeAsraw&passive=true&service=youtube&uilel=3&flowName=GlifWebSignIn&flowEntry=ServiceLogin&dsh=S1034160%3A1714587897732080&theme=mn&ddm=0\")\n",
    "    time.sleep(2)\n",
    "    email_box = driver.find_element(By.ID, 'identifierId')\n",
    "    email_box.send_keys(\"likecatsanddogsdc@gmail.com\")\n",
    "    email_box.send_keys(Keys.ENTER)\n",
    "    time.sleep(3)\n",
    "    password_box = driver.find_element(By.NAME, 'password')\n",
    "    password_box.send_keys(\"teste123\")\n",
    "    password_box.send_keys(Keys.ENTER)\n",
    "    time.sleep(3)\n",
    "    print(\"Login realizado com sucesso.\")\n",
    "except Exception as e:\n",
    "    print(f\"Ocorreu um erro: {e}\")\n",
    "\n"
   ]
  },
  {
   "cell_type": "code",
   "execution_count": 20,
   "id": "65542175",
   "metadata": {},
   "outputs": [
    {
     "name": "stdout",
     "output_type": "stream",
     "text": [
      "Modo tela cheia ativado.\n"
     ]
    }
   ],
   "source": [
    "#Teste 4: Tentar botar o video no modo \"tela cheia\"\n",
    "\n",
    "from selenium import webdriver\n",
    "from selenium.webdriver.common.by import By\n",
    "from selenium.webdriver.common.keys import Keys\n",
    "import time\n",
    "\n",
    "driver = webdriver.Chrome()\n",
    "\n",
    "try:\n",
    "    driver.get(\"https://www.youtube.com/\")\n",
    "\n",
    "    time.sleep(2)\n",
    "\n",
    "    search_box = driver.find_element(By.NAME, 'search_query')\n",
    "    search_box.send_keys(\"Automacao com selenimum\")\n",
    "    search_box.send_keys(Keys.ENTER)\n",
    "\n",
    "    time.sleep(3)\n",
    "\n",
    "    \n",
    "    first_video = driver.find_element(By.CSS_SELECTOR, 'ytd-video-renderer a#video-title')\n",
    "    first_video.click()\n",
    "\n",
    "    time.sleep(5)\n",
    "\n",
    "    \n",
    "    fullscreen_button = driver.find_element(By.CSS_SELECTOR, 'button.ytp-fullscreen-button')\n",
    "    fullscreen_button.click()\n",
    "\n",
    "    print(\"Modo tela cheia ativado.\")\n",
    "\n",
    "except Exception as e:\n",
    "    print(f\"Ocorreu um erro: {e}\")"
   ]
  },
  {
   "cell_type": "code",
   "execution_count": 16,
   "id": "829f2c35",
   "metadata": {},
   "outputs": [
    {
     "name": "stdout",
     "output_type": "stream",
     "text": [
      "Ocorreu um erro: \n"
     ]
    }
   ],
   "source": [
    "#Teste 5: Abrindo o Youtube e entrando na aba \"Em alta\"\n",
    "\n",
    "from selenium import webdriver\n",
    "from selenium.webdriver.common.by import By\n",
    "from selenium.webdriver.common.keys import Keys\n",
    "\n",
    "driver = webdriver.Chrome()\n",
    "\n",
    "try:\n",
    "    driver.get(\"https://www.youtube.com\")\n",
    "    time.sleep(7)\n",
    "    trending_link = driver.find_element(By.XPATH, '//a[@title=\"Em alta\"]')\n",
    "    trending_link.click()\n",
    "    assert \"Em alta\" in driver.title\n",
    "    \n",
    "    print(\"Entrou no em alta com sucesso\")\n",
    "    \n",
    "except Exception as e:\n",
    "    print(f\"Ocorreu um erro: {e}\")"
   ]
  },
  {
   "cell_type": "code",
   "execution_count": null,
   "id": "ef948413",
   "metadata": {},
   "outputs": [],
   "source": []
  }
 ],
 "metadata": {
  "kernelspec": {
   "display_name": "Python 3 (ipykernel)",
   "language": "python",
   "name": "python3"
  },
  "language_info": {
   "codemirror_mode": {
    "name": "ipython",
    "version": 3
   },
   "file_extension": ".py",
   "mimetype": "text/x-python",
   "name": "python",
   "nbconvert_exporter": "python",
   "pygments_lexer": "ipython3",
   "version": "3.11.5"
  }
 },
 "nbformat": 4,
 "nbformat_minor": 5
}
